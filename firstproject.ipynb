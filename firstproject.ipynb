{
  "nbformat": 4,
  "nbformat_minor": 0,
  "metadata": {
    "colab": {
      "provenance": []
    },
    "kernelspec": {
      "name": "python3",
      "display_name": "Python 3"
    },
    "language_info": {
      "name": "python"
    }
  },
  "cells": [
    {
      "cell_type": "code",
      "source": [
        "print(\"Hello, World!\")\n",
        "a = 5\n",
        "b = 3\n",
        "sum = a + b\n",
        "print(\"Sum of a and b is :\", sum)\n",
        "product = a * b\n",
        "print(\"Product of a and b is :\", product)\n"
      ],
      "metadata": {
        "colab": {
          "base_uri": "https://localhost:8080/"
        },
        "id": "TMzpP8Ff8SUz",
        "outputId": "e1b1d1ea-84e7-4862-f761-fedae84208e3"
      },
      "execution_count": 9,
      "outputs": [
        {
          "output_type": "stream",
          "name": "stdout",
          "text": [
            "Hello, World!\n",
            "Sum of a and b is : 8\n",
            "Product of a and b is : 15\n"
          ]
        }
      ]
    },
    {
      "cell_type": "code",
      "source": [
        "print(\"Hello, World!\")\n",
        "a = int(input(\"Enter first number: \"))\n",
        "b = int(input(\"Enter second number: \"))\n",
        "sum = a + b\n",
        "print(\"Sum of a and b is :\", sum)\n",
        "product = a * b\n",
        "print(\"Product of a and b is :\", product)\n"
      ],
      "metadata": {
        "colab": {
          "base_uri": "https://localhost:8080/"
        },
        "id": "7nLZRVP8H1ZY",
        "outputId": "d6fde8ad-f050-4d54-cf6d-b6bbdc03879b"
      },
      "execution_count": 10,
      "outputs": [
        {
          "output_type": "stream",
          "name": "stdout",
          "text": [
            "Hello, World!\n",
            "Enter first number: 10\n",
            "Enter second number: 2\n",
            "Sum of a and b is : 12\n",
            "Product of a and b is : 20\n"
          ]
        }
      ]
    }
  ]
}
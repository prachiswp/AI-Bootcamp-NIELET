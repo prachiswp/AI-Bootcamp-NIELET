{
  "nbformat": 4,
  "nbformat_minor": 0,
  "metadata": {
    "colab": {
      "provenance": []
    },
    "kernelspec": {
      "name": "python3",
      "display_name": "Python 3"
    },
    "language_info": {
      "name": "python"
    }
  },
  "cells": [
    {
      "cell_type": "code",
      "source": [
        "# Basics\n",
        "\n",
        "print(\"Hello, World!\")\n",
        "a = 5\n",
        "b = 3\n",
        "sum = a + b\n",
        "print(\"Sum of a and b is :\", sum)\n",
        "product = a * b\n",
        "print(\"Product of a and b is :\", product)\n"
      ],
      "metadata": {
        "colab": {
          "base_uri": "https://localhost:8080/"
        },
        "id": "TMzpP8Ff8SUz",
        "outputId": "a414d684-cadb-4a39-c662-1e1565479ea7"
      },
      "execution_count": null,
      "outputs": [
        {
          "output_type": "stream",
          "name": "stdout",
          "text": [
            "Hello, World!\n",
            "Sum of a and b is : 8\n",
            "Product of a and b is : 15\n"
          ]
        }
      ]
    },
    {
      "cell_type": "code",
      "source": [
        "# Input Function\n",
        "\n",
        "print(\"Hello, World!\")\n",
        "a = int(input(\"Enter first number: \"))\n",
        "b = int(input(\"Enter second number: \"))\n",
        "sum = a + b\n",
        "print(\"Sum of a and b is :\", sum)\n",
        "product = a * b\n",
        "print(\"Product of a and b is :\", product)\n"
      ],
      "metadata": {
        "colab": {
          "base_uri": "https://localhost:8080/"
        },
        "id": "7nLZRVP8H1ZY",
        "outputId": "b3e1fc65-8892-47dc-ebea-fe9699c255c0"
      },
      "execution_count": null,
      "outputs": [
        {
          "output_type": "stream",
          "name": "stdout",
          "text": [
            "Hello, World!\n",
            "Enter first number: 3\n",
            "Enter second number: 5\n",
            "Sum of a and b is : 8\n",
            "Product of a and b is : 15\n"
          ]
        }
      ]
    },
    {
      "cell_type": "code",
      "source": [
        "# Data Type (Primitive) - Integers, Strings, Float, Boolean\n",
        "\n",
        "a = 45\n",
        "print(type(a))\n",
        "b = \"xyz\"\n",
        "print(type(b))\n",
        "c = 5.4\n",
        "print(type(c))\n",
        "d = True\n",
        "print(type(d))"
      ],
      "metadata": {
        "colab": {
          "base_uri": "https://localhost:8080/"
        },
        "id": "f2nOJyX0jSHg",
        "outputId": "8c7a938e-9690-495c-dbe4-73e103d1ed2f"
      },
      "execution_count": null,
      "outputs": [
        {
          "output_type": "stream",
          "name": "stdout",
          "text": [
            "<class 'int'>\n",
            "<class 'str'>\n",
            "<class 'float'>\n",
            "<class 'bool'>\n"
          ]
        }
      ]
    },
    {
      "cell_type": "code",
      "source": [
        "# Data Type (Non-Primitive Built-In) - List, Tuple, Set, Dictionary\n",
        "\n",
        "a = [1, 2, 3]\n",
        "print(type(a))\n",
        "print(a[2])\n",
        "\n",
        "b = (4, 5, 6)\n",
        "print(type(b))\n",
        "print(b[0])\n",
        "\n",
        "c = {7, 8, 9}\n",
        "print(type(c))\n",
        "print(c)\n",
        "\n",
        "d = {\"Name\": \"Prachi\", \"Age\": 17}\n",
        "print(type(d))\n",
        "print(d[\"Name\"])"
      ],
      "metadata": {
        "colab": {
          "base_uri": "https://localhost:8080/"
        },
        "id": "T6d4KplnmDVs",
        "outputId": "ec8a3bfa-9691-4f16-a9e0-0eca59e6c3b2"
      },
      "execution_count": null,
      "outputs": [
        {
          "output_type": "stream",
          "name": "stdout",
          "text": [
            "<class 'list'>\n",
            "3\n",
            "<class 'tuple'>\n",
            "4\n",
            "<class 'set'>\n",
            "{8, 9, 7}\n",
            "<class 'dict'>\n",
            "Prachi\n"
          ]
        }
      ]
    },
    {
      "cell_type": "code",
      "source": [
        "# Loops\n",
        "\n",
        "# While Loop\n",
        "x = 1\n",
        "while x <= 6:\n",
        "  x == \"Prachi\"\n",
        "  print(\"Prachi\")\n",
        "  x = x + 1"
      ],
      "metadata": {
        "colab": {
          "base_uri": "https://localhost:8080/"
        },
        "id": "WJ-3CuEvn_dU",
        "outputId": "9bbcaee1-2bb2-4951-a947-3f3300451aee"
      },
      "execution_count": null,
      "outputs": [
        {
          "output_type": "stream",
          "name": "stdout",
          "text": [
            "Prachi\n",
            "Prachi\n",
            "Prachi\n",
            "Prachi\n",
            "Prachi\n",
            "Prachi\n"
          ]
        }
      ]
    },
    {
      "cell_type": "code",
      "source": [
        "# For Loop\n",
        "for a in range(1, 14,2):\n",
        "    print(a)"
      ],
      "metadata": {
        "colab": {
          "base_uri": "https://localhost:8080/"
        },
        "id": "ARJLsAqmwwx0",
        "outputId": "23371a9f-e801-484d-ea0d-93e1ced04b28"
      },
      "execution_count": null,
      "outputs": [
        {
          "output_type": "stream",
          "name": "stdout",
          "text": [
            "1\n",
            "3\n",
            "5\n",
            "7\n",
            "9\n",
            "11\n",
            "13\n"
          ]
        }
      ]
    },
    {
      "cell_type": "code",
      "source": [
        "# Nested For Loop\n",
        "for i in range(1, 7, 2):\n",
        "    for j in range(3, 9, 2):\n",
        "        print(i, j)"
      ],
      "metadata": {
        "colab": {
          "base_uri": "https://localhost:8080/"
        },
        "id": "tqtsLwarwzOG",
        "outputId": "c6e4cc07-943e-410a-c7ee-88f828139cf2"
      },
      "execution_count": null,
      "outputs": [
        {
          "output_type": "stream",
          "name": "stdout",
          "text": [
            "1 3\n",
            "1 5\n",
            "1 7\n",
            "3 3\n",
            "3 5\n",
            "3 7\n",
            "5 3\n",
            "5 5\n",
            "5 7\n"
          ]
        }
      ]
    },
    {
      "cell_type": "code",
      "source": [
        "# If Else Condition\n",
        "x = 10\n",
        "if x > 5:\n",
        "    print(\"x is greater than 5\")\n",
        "else:\n",
        "    print(\"x is 5 or less\")"
      ],
      "metadata": {
        "colab": {
          "base_uri": "https://localhost:8080/"
        },
        "id": "4N9ggHQYw1ql",
        "outputId": "f3fcc1a3-2676-49f4-cd50-5c573bed332d"
      },
      "execution_count": null,
      "outputs": [
        {
          "output_type": "stream",
          "name": "stdout",
          "text": [
            "x is greater than 5\n"
          ]
        }
      ]
    },
    {
      "cell_type": "code",
      "source": [
        "# Nested If Else Condition\n",
        "x = 2\n",
        "if x > 0:\n",
        "    if x > 5:\n",
        "        print(\"x is greater than 5\")\n",
        "    else:\n",
        "        print(\"x is between 1 and 5\")\n",
        "else:\n",
        "    print(\"x is zero or negative\")\n"
      ],
      "metadata": {
        "colab": {
          "base_uri": "https://localhost:8080/"
        },
        "id": "lCdtVoPkw3Mn",
        "outputId": "c405e71f-b14c-482b-9ad4-b96afad98018"
      },
      "execution_count": null,
      "outputs": [
        {
          "output_type": "stream",
          "name": "stdout",
          "text": [
            "x is between 1 and 5\n"
          ]
        }
      ]
    }
  ]
}